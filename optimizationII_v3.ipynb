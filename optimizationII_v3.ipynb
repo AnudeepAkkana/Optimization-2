{
  "cells": [
    {
      "cell_type": "code",
      "source": [
        "pip install gurobipy"
      ],
      "metadata": {
        "colab": {
          "base_uri": "https://localhost:8080/"
        },
        "id": "iwli8DTXyBiI",
        "outputId": "4ac12e0b-d68f-473d-c6f3-d165855ee260"
      },
      "id": "iwli8DTXyBiI",
      "execution_count": null,
      "outputs": [
        {
          "output_type": "stream",
          "name": "stdout",
          "text": [
            "Looking in indexes: https://pypi.org/simple, https://us-python.pkg.dev/colab-wheels/public/simple/\n",
            "Requirement already satisfied: gurobipy in /usr/local/lib/python3.8/dist-packages (10.0.1)\n"
          ]
        }
      ]
    },
    {
      "cell_type": "code",
      "execution_count": null,
      "id": "dca3b7c0",
      "metadata": {
        "id": "dca3b7c0"
      },
      "outputs": [],
      "source": [
        "import numpy as np\n",
        "import pandas as pd\n",
        "from tqdm import tqdm\n",
        "import seaborn as sns\n",
        "from numpy.random import normal, randint\n",
        "import gurobipy as gp\n",
        "import matplotlib.pyplot as plt\n",
        "from patsy import dmatrices\n",
        "import statsmodels.api as sm\n",
        "from sklearn.linear_model import LinearRegression\n",
        "import warnings\n",
        "warnings.filterwarnings(\"ignore\")\n",
        "GUROBI_TIMEOUT = 10\n",
        "%matplotlib inline"
      ]
    },
    {
      "cell_type": "code",
      "source": [
        "pip install gurobipy"
      ],
      "metadata": {
        "id": "Te53Y_JY3O09"
      },
      "id": "Te53Y_JY3O09",
      "execution_count": null,
      "outputs": []
    },
    {
      "cell_type": "code",
      "execution_count": null,
      "id": "43e1ac72",
      "metadata": {
        "id": "43e1ac72"
      },
      "outputs": [],
      "source": [
        "\n",
        "price_demand_data = pd.read_csv('price_demand_data.csv')\n",
        "days = price_demand_data.shape[0]\n"
      ]
    },
    {
      "cell_type": "markdown",
      "id": "4258bd4d",
      "metadata": {
        "id": "4258bd4d"
      },
      "source": [
        "## 1) Fit a linear regression model to this data set."
      ]
    },
    {
      "cell_type": "code",
      "execution_count": null,
      "id": "e085d087",
      "metadata": {
        "id": "e085d087",
        "colab": {
          "base_uri": "https://localhost:8080/",
          "height": 447
        },
        "outputId": "9a9f3281-cfbe-411c-8c5a-7206d2f8a375"
      },
      "outputs": [
        {
          "output_type": "execute_result",
          "data": {
            "text/plain": [
              "<class 'statsmodels.iolib.summary.Summary'>\n",
              "\"\"\"\n",
              "                            OLS Regression Results                            \n",
              "==============================================================================\n",
              "Dep. Variable:                 demand   R-squared:                       0.621\n",
              "Model:                            OLS   Adj. R-squared:                  0.618\n",
              "Method:                 Least Squares   F-statistic:                     159.3\n",
              "Date:                Sat, 18 Feb 2023   Prob (F-statistic):           3.51e-22\n",
              "Time:                        00:15:37   Log-Likelihood:                -636.17\n",
              "No. Observations:                  99   AIC:                             1276.\n",
              "Df Residuals:                      97   BIC:                             1282.\n",
              "Df Model:                           1                                         \n",
              "Covariance Type:            nonrobust                                         \n",
              "==============================================================================\n",
              "                 coef    std err          t      P>|t|      [0.025      0.975]\n",
              "------------------------------------------------------------------------------\n",
              "Intercept   1924.7175    111.334     17.288      0.000    1703.750    2145.685\n",
              "price      -1367.7125    108.379    -12.620      0.000   -1582.816   -1152.609\n",
              "==============================================================================\n",
              "Omnibus:                        0.906   Durbin-Watson:                   1.827\n",
              "Prob(Omnibus):                  0.636   Jarque-Bera (JB):                0.871\n",
              "Skew:                          -0.222   Prob(JB):                        0.647\n",
              "Kurtosis:                       2.881   Cond. No.                         14.6\n",
              "==============================================================================\n",
              "\n",
              "Notes:\n",
              "[1] Standard Errors assume that the covariance matrix of the errors is correctly specified.\n",
              "\"\"\""
            ],
            "text/html": [
              "<table class=\"simpletable\">\n",
              "<caption>OLS Regression Results</caption>\n",
              "<tr>\n",
              "  <th>Dep. Variable:</th>         <td>demand</td>      <th>  R-squared:         </th> <td>   0.621</td>\n",
              "</tr>\n",
              "<tr>\n",
              "  <th>Model:</th>                   <td>OLS</td>       <th>  Adj. R-squared:    </th> <td>   0.618</td>\n",
              "</tr>\n",
              "<tr>\n",
              "  <th>Method:</th>             <td>Least Squares</td>  <th>  F-statistic:       </th> <td>   159.3</td>\n",
              "</tr>\n",
              "<tr>\n",
              "  <th>Date:</th>             <td>Sat, 18 Feb 2023</td> <th>  Prob (F-statistic):</th> <td>3.51e-22</td>\n",
              "</tr>\n",
              "<tr>\n",
              "  <th>Time:</th>                 <td>00:15:37</td>     <th>  Log-Likelihood:    </th> <td> -636.17</td>\n",
              "</tr>\n",
              "<tr>\n",
              "  <th>No. Observations:</th>      <td>    99</td>      <th>  AIC:               </th> <td>   1276.</td>\n",
              "</tr>\n",
              "<tr>\n",
              "  <th>Df Residuals:</th>          <td>    97</td>      <th>  BIC:               </th> <td>   1282.</td>\n",
              "</tr>\n",
              "<tr>\n",
              "  <th>Df Model:</th>              <td>     1</td>      <th>                     </th>     <td> </td>   \n",
              "</tr>\n",
              "<tr>\n",
              "  <th>Covariance Type:</th>      <td>nonrobust</td>    <th>                     </th>     <td> </td>   \n",
              "</tr>\n",
              "</table>\n",
              "<table class=\"simpletable\">\n",
              "<tr>\n",
              "      <td></td>         <th>coef</th>     <th>std err</th>      <th>t</th>      <th>P>|t|</th>  <th>[0.025</th>    <th>0.975]</th>  \n",
              "</tr>\n",
              "<tr>\n",
              "  <th>Intercept</th> <td> 1924.7175</td> <td>  111.334</td> <td>   17.288</td> <td> 0.000</td> <td> 1703.750</td> <td> 2145.685</td>\n",
              "</tr>\n",
              "<tr>\n",
              "  <th>price</th>     <td>-1367.7125</td> <td>  108.379</td> <td>  -12.620</td> <td> 0.000</td> <td>-1582.816</td> <td>-1152.609</td>\n",
              "</tr>\n",
              "</table>\n",
              "<table class=\"simpletable\">\n",
              "<tr>\n",
              "  <th>Omnibus:</th>       <td> 0.906</td> <th>  Durbin-Watson:     </th> <td>   1.827</td>\n",
              "</tr>\n",
              "<tr>\n",
              "  <th>Prob(Omnibus):</th> <td> 0.636</td> <th>  Jarque-Bera (JB):  </th> <td>   0.871</td>\n",
              "</tr>\n",
              "<tr>\n",
              "  <th>Skew:</th>          <td>-0.222</td> <th>  Prob(JB):          </th> <td>   0.647</td>\n",
              "</tr>\n",
              "<tr>\n",
              "  <th>Kurtosis:</th>      <td> 2.881</td> <th>  Cond. No.          </th> <td>    14.6</td>\n",
              "</tr>\n",
              "</table><br/><br/>Notes:<br/>[1] Standard Errors assume that the covariance matrix of the errors is correctly specified."
            ]
          },
          "metadata": {},
          "execution_count": 37
        }
      ],
      "source": [
        "y, x = dmatrices('demand ~ price', data=price_demand_data)\n",
        "lr_model = sm.OLS(y, x)  \n",
        "lr_model = lr_model.fit()\n",
        "lr_model.summary()"
      ]
    },
    {
      "cell_type": "code",
      "execution_count": null,
      "id": "44e77210",
      "metadata": {
        "id": "44e77210"
      },
      "outputs": [],
      "source": [
        "#Using the residuals, assume the price is p=1 and generate demand data.\n",
        "y_hat = lr_model.predict(x)\n",
        "residuals = y.flatten() - y_hat\n"
      ]
    },
    {
      "cell_type": "code",
      "execution_count": null,
      "id": "97a4bcf6",
      "metadata": {
        "scrolled": true,
        "id": "97a4bcf6",
        "colab": {
          "base_uri": "https://localhost:8080/",
          "height": 313
        },
        "outputId": "99bcc676-765a-4269-f6db-6586a5ee27b4"
      },
      "outputs": [
        {
          "output_type": "execute_result",
          "data": {
            "text/plain": [
              "Text(0.5, 1.0, 'Price vs. Demand')"
            ]
          },
          "metadata": {},
          "execution_count": 39
        },
        {
          "output_type": "display_data",
          "data": {
            "text/plain": [
              "<Figure size 432x288 with 1 Axes>"
            ],
            "image/png": "[encoded data removed]"
          },
          "metadata": {
            "needs_background": "light"
          }
        }
      ],
      "source": [
        "plt.scatter(x= x[:,1], y= y, color = \"orange\")\n",
        "plt.plot(x[:,1],x@lr_model.params, color = \"red\", linestyle = \"dashed\", linewidth = 0.7)\n",
        "plt.xlabel(\"Price\")\n",
        "plt.ylabel(\"Demand\")\n",
        "plt.title('Price vs. Demand')\n"
      ]
    },
    {
      "cell_type": "code",
      "execution_count": null,
      "id": "92ab4ab0",
      "metadata": {
        "id": "92ab4ab0"
      },
      "outputs": [],
      "source": [
        "df_new = pd.DataFrame()\n",
        "df_new['residuals'] = price_demand_data['demand'] - pd.Series(x@lr_model.params)"
      ]
    },
    {
      "cell_type": "code",
      "execution_count": null,
      "id": "7221ce88",
      "metadata": {
        "id": "7221ce88"
      },
      "outputs": [],
      "source": [
        "beta0 = lr_model.params[0]\n",
        "beta1 = lr_model.params[1]\n",
        "# creating demand with price = 1\n",
        "p = 1\n",
        "df_new['price'] = p\n",
        "df_new['demand'] = beta0 + beta1*df_new['price'] + df_new['residuals']"
      ]
    },
    {
      "cell_type": "code",
      "execution_count": null,
      "id": "ad935463",
      "metadata": {
        "id": "ad935463",
        "colab": {
          "base_uri": "https://localhost:8080/",
          "height": 313
        },
        "outputId": "b46e7d0d-f0ff-4818-cae2-98daa31ca406"
      },
      "outputs": [
        {
          "output_type": "execute_result",
          "data": {
            "text/plain": [
              "Text(0.5, 1.0, 'Price vs. Residuals')"
            ]
          },
          "metadata": {},
          "execution_count": 42
        },
        {
          "output_type": "display_data",
          "data": {
            "text/plain": [
              "<Figure size 432x288 with 1 Axes>"
            ],
            "image/png": "[encoded data removed]"
          },
          "metadata": {
            "needs_background": "light"
          }
        }
      ],
      "source": [
        "plt.scatter(x= x[:,1], y= residuals, color='grey' )\n",
        "plt.axhline(y=0, color='red', linewidth = 1)\n",
        "plt.xlabel(\"Price\")\n",
        "plt.ylabel(\"Residuals\")\n",
        "plt.title('Price vs. Residuals')"
      ]
    },
    {
      "cell_type": "code",
      "execution_count": null,
      "id": "caa19744",
      "metadata": {
        "id": "caa19744",
        "colab": {
          "base_uri": "https://localhost:8080/",
          "height": 313
        },
        "outputId": "fb2e156d-443a-4062-94ff-385b810caff3"
      },
      "outputs": [
        {
          "output_type": "execute_result",
          "data": {
            "text/plain": [
              "Text(0, 0.5, 'Predicted Demand')"
            ]
          },
          "metadata": {},
          "execution_count": 43
        },
        {
          "output_type": "display_data",
          "data": {
            "text/plain": [
              "<Figure size 432x288 with 1 Axes>"
            ],
            "image/png": "[encoded data removed]"
          },
          "metadata": {
            "needs_background": "light"
          }
        }
      ],
      "source": [
        "line = np.arange(price_demand_data['demand'].min(), price_demand_data['demand'].max())\n",
        "plt.plot(line, line, color='grey')\n",
        "plt.title('Actual vs Predicted Demand')\n",
        "plt.scatter(price_demand_data['demand'],y_hat,color='orange' )\n",
        "plt.xlabel('Actual Demand')\n",
        "plt.ylabel('Predicted Demand')\n"
      ]
    },
    {
      "cell_type": "markdown",
      "id": "f80cbc07",
      "metadata": {
        "id": "f80cbc07"
      },
      "source": [
        "## 2) Let c=0.5, g=0.75, and t=0.15. Using the residuals, assume the price is p=1 and generate demand data."
      ]
    },
    {
      "cell_type": "code",
      "execution_count": null,
      "id": "f0edfa28",
      "metadata": {
        "id": "f0edfa28",
        "colab": {
          "base_uri": "https://localhost:8080/"
        },
        "outputId": "a838f653-e441-483e-8b5a-69469b369a21"
      },
      "outputs": [
        {
          "output_type": "execute_result",
          "data": {
            "text/plain": [
              "array([351.38562621, 579.52024662, 472.21963007, 448.93724855,\n",
              "       673.7489942 ])"
            ]
          },
          "metadata": {},
          "execution_count": 44
        }
      ],
      "source": [
        "g = 0.75\n",
        "cost = 0.5\n",
        "t = 0.15\n",
        "price = 1.00\n",
        "\n",
        "demand_with_price_1 = lr_model.predict(np.ones(x.shape))\n",
        "demand_with_price_1= demand_with_price_1 + residuals\n",
        "demand_with_price_1[:5]"
      ]
    },
    {
      "cell_type": "markdown",
      "id": "5fabdc46",
      "metadata": {
        "id": "5fabdc46"
      },
      "source": [
        "## 3)Solve the optimal quantity to produce when p=1"
      ]
    },
    {
      "cell_type": "code",
      "execution_count": null,
      "id": "65bc1bf8",
      "metadata": {
        "id": "65bc1bf8"
      },
      "outputs": [],
      "source": [
        "n = len(demand_with_price_1)\n",
        "A = np.zeros((n*2, n+1))\n",
        "b = np.zeros(A.shape[0])\n",
        "sense = ['<']*A.shape[0]\n",
        "obj = np.zeros(A.shape[1])\n",
        "lb = [0] + [-np.inf]*n\n",
        "ub = [np.inf] + list((price+t)*demand_with_price_1)\n",
        "obj[1:] = 1/n\n"
      ]
    },
    {
      "cell_type": "code",
      "execution_count": null,
      "id": "b3cbbf88",
      "metadata": {
        "id": "b3cbbf88"
      },
      "outputs": [],
      "source": [
        "for i in range(n):\n",
        "    d = demand_with_price_1[i]\n",
        "    A[i, [0, i+1]] = [cost-g, 1]\n",
        "    b[i] = price*d - g*d\n",
        "    A[n+i, [0, i+1]] = [cost+t, 1]\n",
        "    b[n+i] = price*d + t*d"
      ]
    },
    {
      "cell_type": "code",
      "execution_count": null,
      "id": "16715212",
      "metadata": {
        "id": "16715212",
        "colab": {
          "base_uri": "https://localhost:8080/",
          "height": 353
        },
        "outputId": "c1ef7936-0da9-4a8d-b4b0-618259966dc5"
      },
      "outputs": [
        {
          "output_type": "error",
          "ename": "AttributeError",
          "evalue": "ignored",
          "traceback": [
            "\u001b[0;31m---------------------------------------------------------------------------\u001b[0m",
            "\u001b[0;31mAttributeError\u001b[0m                            Traceback (most recent call last)",
            "\u001b[0;32m<ipython-input-47-98cc71435c0d>\u001b[0m in \u001b[0;36m<module>\u001b[0;34m\u001b[0m\n\u001b[1;32m      2\u001b[0m \u001b[0mmodel_for_price_1_x\u001b[0m \u001b[0;34m=\u001b[0m \u001b[0mmodel_for_price_1\u001b[0m\u001b[0;34m.\u001b[0m\u001b[0maddMVar\u001b[0m\u001b[0;34m(\u001b[0m\u001b[0mlen\u001b[0m\u001b[0;34m(\u001b[0m\u001b[0mobj\u001b[0m\u001b[0;34m)\u001b[0m\u001b[0;34m,\u001b[0m\u001b[0mlb\u001b[0m\u001b[0;34m=\u001b[0m\u001b[0mlb\u001b[0m\u001b[0;34m,\u001b[0m \u001b[0mub\u001b[0m\u001b[0;34m=\u001b[0m\u001b[0mub\u001b[0m\u001b[0;34m)\u001b[0m\u001b[0;34m\u001b[0m\u001b[0;34m\u001b[0m\u001b[0m\n\u001b[1;32m      3\u001b[0m \u001b[0;34m\u001b[0m\u001b[0m\n\u001b[0;32m----> 4\u001b[0;31m \u001b[0mmodel_for_price_1_con\u001b[0m \u001b[0;34m=\u001b[0m \u001b[0mmodel_for_price_1\u001b[0m\u001b[0;34m.\u001b[0m\u001b[0maddMConstrs\u001b[0m\u001b[0;34m(\u001b[0m\u001b[0mA\u001b[0m\u001b[0;34m,\u001b[0m \u001b[0mmodel_for_price_1_x\u001b[0m\u001b[0;34m,\u001b[0m \u001b[0msense\u001b[0m\u001b[0;34m,\u001b[0m \u001b[0mb\u001b[0m\u001b[0;34m)\u001b[0m\u001b[0;34m\u001b[0m\u001b[0;34m\u001b[0m\u001b[0m\n\u001b[0m\u001b[1;32m      5\u001b[0m \u001b[0mmodel_for_price_1\u001b[0m\u001b[0;34m.\u001b[0m\u001b[0msetMObjective\u001b[0m\u001b[0;34m(\u001b[0m\u001b[0;32mNone\u001b[0m\u001b[0;34m,\u001b[0m\u001b[0mobj\u001b[0m\u001b[0;34m,\u001b[0m\u001b[0;36m0\u001b[0m\u001b[0;34m,\u001b[0m\u001b[0msense\u001b[0m\u001b[0;34m=\u001b[0m\u001b[0mgp\u001b[0m\u001b[0;34m.\u001b[0m\u001b[0mGRB\u001b[0m\u001b[0;34m.\u001b[0m\u001b[0mMAXIMIZE\u001b[0m\u001b[0;34m)\u001b[0m\u001b[0;34m\u001b[0m\u001b[0;34m\u001b[0m\u001b[0m\n\u001b[1;32m      6\u001b[0m \u001b[0;34m\u001b[0m\u001b[0m\n",
            "\u001b[0;32msrc/gurobipy/model.pxi\u001b[0m in \u001b[0;36mgurobipy.Model.__getattr__\u001b[0;34m()\u001b[0m\n",
            "\u001b[0;32msrc/gurobipy/model.pxi\u001b[0m in \u001b[0;36mgurobipy.Model.getAttr\u001b[0;34m()\u001b[0m\n",
            "\u001b[0;32msrc/gurobipy/attrutil.pxi\u001b[0m in \u001b[0;36mgurobipy.__getattrinfo\u001b[0;34m()\u001b[0m\n",
            "\u001b[0;31mAttributeError\u001b[0m: 'gurobipy.Model' object has no attribute 'addMConstrs'"
          ]
        }
      ],
      "source": [
        "model_for_price_1 = gp.Model()\n",
        "model_for_price_1_x = model_for_price_1.addMVar(len(obj),lb=lb, ub=ub)\n",
        "\n",
        "model_for_price_1_con = model_for_price_1.addMConstrs(A, model_for_price_1_x, sense, b) \n",
        "model_for_price_1.setMObjective(None,obj,0,sense=gp.GRB.MAXIMIZE)\n",
        "\n",
        "model_for_price_1.Params.OutputFlag = 0 # \n",
        "model_for_price_1.optimize()"
      ]
    },
    {
      "cell_type": "code",
      "execution_count": null,
      "id": "7d232961",
      "metadata": {
        "id": "7d232961"
      },
      "outputs": [],
      "source": [
        "~#the optimal quantity to produce when price=$1\n",
        "optimal_quantity_price_1 = model_for_price_1.x[0]\n",
        "print('Optimal Quantity for price=$1 :: ', optimal_quantity_price_1)\n",
        "\n",
        "#the expected price to produce when price=$1\n",
        "exp_profit_price_1 = model_for_price_1.objVal\n",
        "print('Expected profit for price=$1 :: ', exp_profit_price_1)"
      ]
    },
    {
      "cell_type": "markdown",
      "id": "0f74713f",
      "metadata": {
        "id": "0f74713f"
      },
      "source": [
        "## 4)Now let price impact demand and solve the resulting QP. What are the optimal price and quantity to print?"
      ]
    },
    {
      "cell_type": "code",
      "execution_count": null,
      "id": "ad882fbe",
      "metadata": {
        "id": "ad882fbe"
      },
      "outputs": [],
      "source": [
        "def model_price_unknown(residuals, beta_0, beta_1):\n",
        "    n = len(residuals)\n",
        "    A = np.zeros((n*2, n+2))\n",
        "    b = np.zeros(A.shape[0])\n",
        "    sense = ['<']*A.shape[0]\n",
        "    obj = np.zeros(A.shape[1])\n",
        "    Q = np.zeros((A.shape[1], A.shape[1]))\n",
        "    lb = [0] + [0] + [-np.inf]*n\n",
        "    ub = [np.inf] + [np.inf] + [np.inf]*n\n",
        "    obj[1] = beta_0 + np.mean(residuals)\n",
        "    obj[2:] = 1/n\n",
        "\n",
        "    Q[1, 1] = beta_1\n",
        "    for i in range(n):\n",
        "        eps = residuals[i]\n",
        "\n",
        "        A[i, [0, 1, i+2]] = [cost-g,  g*beta_1, 1]\n",
        "        b[i] = -g*beta_0 - g*eps \n",
        "\n",
        "        A[n+i, [0, 1, i+2]] = [cost+t, -t*beta_1, 1]\n",
        "        b[n+i] = t*beta_0 + t*eps\n",
        "\n",
        "    model_for_dynamic_price = gp.Model()\n",
        "    model_for_dynamic_price_x = model_for_dynamic_price.addMVar(len(obj),lb=lb, ub=ub)\n",
        "\n",
        "    model_for_dynamic_price_con = model_for_dynamic_price.addMConstr(A, model_for_dynamic_price_x, sense, b) \n",
        "    model_for_dynamic_price.setMObjective(Q,obj,0,sense=gp.GRB.MAXIMIZE)\n",
        "\n",
        "    model_for_dynamic_price.Params.OutputFlag = 0  \n",
        "    model_for_dynamic_price.optimize()\n",
        "    \n",
        "    return model_for_dynamic_price\n"
      ]
    },
    {
      "cell_type": "code",
      "execution_count": null,
      "id": "cf2ffa16",
      "metadata": {
        "id": "cf2ffa16"
      },
      "outputs": [],
      "source": [
        "beta_0, beta_1 = lr_model.params"
      ]
    },
    {
      "cell_type": "code",
      "execution_count": null,
      "id": "f2b17887",
      "metadata": {
        "id": "f2b17887"
      },
      "outputs": [],
      "source": [
        "model_for_dynamic_price=model_price_unknown(residuals, beta_0, beta_1)"
      ]
    },
    {
      "cell_type": "code",
      "execution_count": null,
      "id": "a53eac47",
      "metadata": {
        "id": "a53eac47",
        "colab": {
          "base_uri": "https://localhost:8080/"
        },
        "outputId": "1d22b968-6338-4a5a-9647-612793539f11"
      },
      "outputs": [
        {
          "output_type": "stream",
          "name": "stdout",
          "text": [
            "Optimal Quantity for dynamic price ::  535.2910009722485\n",
            "Optimal price ::  0.9536264966232282\n",
            "Expected profit for dynamic price ::  234.42493487066122\n"
          ]
        }
      ],
      "source": [
        "#the optimal quantity to produce when price is dynamic\n",
        "optimal_quantity_dynamic_price = model_for_dynamic_price.x[0]\n",
        "print('Optimal Quantity for dynamic price :: ', optimal_quantity_dynamic_price)\n",
        "\n",
        "#the expected price to produce when price is dynamic\n",
        "optimal_price = model_for_dynamic_price.x[1]\n",
        "print('Optimal price :: ', optimal_price)\n",
        "\n",
        "#the expected price to produce when price is dynamic  \n",
        "exp_profit_dynamic_price = model_for_dynamic_price.objVal\n",
        "print('Expected profit for dynamic price :: ', exp_profit_dynamic_price)"
      ]
    },
    {
      "cell_type": "markdown",
      "id": "fccc1bd0",
      "metadata": {
        "id": "fccc1bd0"
      },
      "source": [
        "## 6) We are now interested to know how sensitive the optimal price and quantity are to our data set. Take a bootstrap sample of the original dataset. Go back and fit new beta’s to the new bootstrapped dataset and redo step 4. Find the optimal price and quantity."
      ]
    },
    {
      "cell_type": "code",
      "execution_count": null,
      "id": "bafdddb9",
      "metadata": {
        "id": "bafdddb9"
      },
      "outputs": [],
      "source": [
        "def lr_output(data_x):\n",
        "    y, x = dmatrices('demand ~ price', data=data_x)\n",
        "    lr_model = sm.OLS(y, x)  \n",
        "    lr_model = lr_model.fit()\n",
        "    beta_0, beta_1 = lr_model.params\n",
        "    y_hat = lr_model.predict(x)\n",
        "    residuals = y.flatten() - y_hat\n",
        "\n",
        "    return residuals, beta_0, beta_1"
      ]
    },
    {
      "cell_type": "code",
      "execution_count": null,
      "id": "101ab243",
      "metadata": {
        "id": "101ab243"
      },
      "outputs": [],
      "source": [
        "def bootstrap_func():\n",
        "    index = np.random.randint(size= price_demand_data.shape[0], low= 0, high= price_demand_data.shape[0])\n",
        "    bs_sample = price_demand_data.iloc[index].reset_index(drop= True)\n",
        "    residuals, beta_0, beta_1 = lr_output(bs_sample)\n",
        "\n",
        "    return model_price_unknown(residuals,beta_0, beta_1)"
      ]
    },
    {
      "cell_type": "code",
      "execution_count": null,
      "id": "c7341d05",
      "metadata": {
        "id": "c7341d05",
        "colab": {
          "base_uri": "https://localhost:8080/"
        },
        "outputId": "22e7eb6d-7a79-4e85-91bc-548afc48cd76"
      },
      "outputs": [
        {
          "output_type": "stream",
          "name": "stdout",
          "text": [
            "Output for 1 bootstrap sample\n",
            "\n",
            "Optimal Quantity for dynamic price of bootstrapped data::  545.2429458158845\n",
            "Optimal price of bootstrapped data::  0.9508260483523963\n",
            "Expected profit for dynamic price of bootstrapped data ::  238.68755736017442\n"
          ]
        }
      ],
      "source": [
        "model_bootstrap_q6 = bootstrap_func()\n",
        "\n",
        "print(\"Output for 1 bootstrap sample\\n\")\n",
        "\n",
        "#the optimal quantity to produce when price is dynamic\n",
        "model_bootstrap_q6_price = model_bootstrap_q6.x[0]\n",
        "print('Optimal Quantity for dynamic price of bootstrapped data:: ', model_bootstrap_q6_price)\n",
        "\n",
        "#the expected price to produce when price is dynamic\n",
        "optimal_price = model_bootstrap_q6.x[1]\n",
        "print('Optimal price of bootstrapped data:: ', optimal_price)\n",
        "\n",
        "#the expected price to produce when price is dynamic  \n",
        "model_bootstrap_q6exp_profit_dynamic_price = model_bootstrap_q6.objVal\n",
        "print('Expected profit for dynamic price of bootstrapped data :: ', model_bootstrap_q6exp_profit_dynamic_price)"
      ]
    },
    {
      "cell_type": "markdown",
      "id": "0ea5bcf4",
      "metadata": {
        "id": "0ea5bcf4"
      },
      "source": [
        "## 7) Repeat this process of getting new bootstrapped data, fitting new betas to the newly simulated data and finding the optimal price/quantity many times. Make histograms of the optimal price and quantity. "
      ]
    },
    {
      "cell_type": "code",
      "execution_count": null,
      "id": "3ddd4b86",
      "metadata": {
        "id": "3ddd4b86",
        "colab": {
          "base_uri": "https://localhost:8080/",
          "height": 224
        },
        "outputId": "9dd9733e-1e29-4c19-e7b2-74b919f7f7a3"
      },
      "outputs": [
        {
          "output_type": "stream",
          "name": "stderr",
          "text": [
            "100%|██████████| 10000/10000 [03:09<00:00, 52.84it/s]\n"
          ]
        },
        {
          "output_type": "execute_result",
          "data": {
            "text/plain": [
              "       Profit     Price    Quantity\n",
              "0  227.301268  0.962783  501.422119\n",
              "1  250.729145  0.952120  556.716300\n",
              "2  237.392801  0.953987  536.679277\n",
              "3  248.096764  0.958335  559.870839\n",
              "4  234.965257  0.950703  541.105875"
            ],
            "text/html": [
              "\n",
              "  <div id=\"df-21b7a96c-c46f-4459-b9d9-5919a5e13209\">\n",
              "    <div class=\"colab-df-container\">\n",
              "      <div>\n",
              "<style scoped>\n",
              "    .dataframe tbody tr th:only-of-type {\n",
              "        vertical-align: middle;\n",
              "    }\n",
              "\n",
              "    .dataframe tbody tr th {\n",
              "        vertical-align: top;\n",
              "    }\n",
              "\n",
              "    .dataframe thead th {\n",
              "        text-align: right;\n",
              "    }\n",
              "</style>\n",
              "<table border=\"1\" class=\"dataframe\">\n",
              "  <thead>\n",
              "    <tr style=\"text-align: right;\">\n",
              "      <th></th>\n",
              "      <th>Profit</th>\n",
              "      <th>Price</th>\n",
              "      <th>Quantity</th>\n",
              "    </tr>\n",
              "  </thead>\n",
              "  <tbody>\n",
              "    <tr>\n",
              "      <th>0</th>\n",
              "      <td>227.301268</td>\n",
              "      <td>0.962783</td>\n",
              "      <td>501.422119</td>\n",
              "    </tr>\n",
              "    <tr>\n",
              "      <th>1</th>\n",
              "      <td>250.729145</td>\n",
              "      <td>0.952120</td>\n",
              "      <td>556.716300</td>\n",
              "    </tr>\n",
              "    <tr>\n",
              "      <th>2</th>\n",
              "      <td>237.392801</td>\n",
              "      <td>0.953987</td>\n",
              "      <td>536.679277</td>\n",
              "    </tr>\n",
              "    <tr>\n",
              "      <th>3</th>\n",
              "      <td>248.096764</td>\n",
              "      <td>0.958335</td>\n",
              "      <td>559.870839</td>\n",
              "    </tr>\n",
              "    <tr>\n",
              "      <th>4</th>\n",
              "      <td>234.965257</td>\n",
              "      <td>0.950703</td>\n",
              "      <td>541.105875</td>\n",
              "    </tr>\n",
              "  </tbody>\n",
              "</table>\n",
              "</div>\n",
              "      <button class=\"colab-df-convert\" onclick=\"convertToInteractive('df-21b7a96c-c46f-4459-b9d9-5919a5e13209')\"\n",
              "              title=\"Convert this dataframe to an interactive table.\"\n",
              "              style=\"display:none;\">\n",
              "        \n",
              "  <svg xmlns=\"http://www.w3.org/2000/svg\" height=\"24px\"viewBox=\"0 0 24 24\"\n",
              "       width=\"24px\">\n",
              "    <path d=\"M0 0h24v24H0V0z\" fill=\"none\"/>\n",
              "    <path d=\"M18.56 5.44l.94 2.06.94-2.06 2.06-.94-2.06-.94-.94-2.06-.94 2.06-2.06.94zm-11 1L8.5 8.5l.94-2.06 2.06-.94-2.06-.94L8.5 2.5l-.94 2.06-2.06.94zm10 10l.94 2.06.94-2.06 2.06-.94-2.06-.94-.94-2.06-.94 2.06-2.06.94z\"/><path d=\"M17.41 7.96l-1.37-1.37c-.4-.4-.92-.59-1.43-.59-.52 0-1.04.2-1.43.59L10.3 9.45l-7.72 7.72c-.78.78-.78 2.05 0 2.83L4 21.41c.39.39.9.59 1.41.59.51 0 1.02-.2 1.41-.59l7.78-7.78 2.81-2.81c.8-.78.8-2.07 0-2.86zM5.41 20L4 18.59l7.72-7.72 1.47 1.35L5.41 20z\"/>\n",
              "  </svg>\n",
              "      </button>\n",
              "      \n",
              "  <style>\n",
              "    .colab-df-container {\n",
              "      display:flex;\n",
              "      flex-wrap:wrap;\n",
              "      gap: 12px;\n",
              "    }\n",
              "\n",
              "    .colab-df-convert {\n",
              "      background-color: #E8F0FE;\n",
              "      border: none;\n",
              "      border-radius: 50%;\n",
              "      cursor: pointer;\n",
              "      display: none;\n",
              "      fill: #1967D2;\n",
              "      height: 32px;\n",
              "      padding: 0 0 0 0;\n",
              "      width: 32px;\n",
              "    }\n",
              "\n",
              "    .colab-df-convert:hover {\n",
              "      background-color: #E2EBFA;\n",
              "      box-shadow: 0px 1px 2px rgba(60, 64, 67, 0.3), 0px 1px 3px 1px rgba(60, 64, 67, 0.15);\n",
              "      fill: #174EA6;\n",
              "    }\n",
              "\n",
              "    [theme=dark] .colab-df-convert {\n",
              "      background-color: #3B4455;\n",
              "      fill: #D2E3FC;\n",
              "    }\n",
              "\n",
              "    [theme=dark] .colab-df-convert:hover {\n",
              "      background-color: #434B5C;\n",
              "      box-shadow: 0px 1px 3px 1px rgba(0, 0, 0, 0.15);\n",
              "      filter: drop-shadow(0px 1px 2px rgba(0, 0, 0, 0.3));\n",
              "      fill: #FFFFFF;\n",
              "    }\n",
              "  </style>\n",
              "\n",
              "      <script>\n",
              "        const buttonEl =\n",
              "          document.querySelector('#df-21b7a96c-c46f-4459-b9d9-5919a5e13209 button.colab-df-convert');\n",
              "        buttonEl.style.display =\n",
              "          google.colab.kernel.accessAllowed ? 'block' : 'none';\n",
              "\n",
              "        async function convertToInteractive(key) {\n",
              "          const element = document.querySelector('#df-21b7a96c-c46f-4459-b9d9-5919a5e13209');\n",
              "          const dataTable =\n",
              "            await google.colab.kernel.invokeFunction('convertToInteractive',\n",
              "                                                     [key], {});\n",
              "          if (!dataTable) return;\n",
              "\n",
              "          const docLinkHtml = 'Like what you see? Visit the ' +\n",
              "            '<a target=\"_blank\" href=https://colab.research.google.com/notebooks/data_table.ipynb>data table notebook</a>'\n",
              "            + ' to learn more about interactive tables.';\n",
              "          element.innerHTML = '';\n",
              "          dataTable['output_type'] = 'display_data';\n",
              "          await google.colab.output.renderOutput(dataTable, element);\n",
              "          const docLink = document.createElement('div');\n",
              "          docLink.innerHTML = docLinkHtml;\n",
              "          element.appendChild(docLink);\n",
              "        }\n",
              "      </script>\n",
              "    </div>\n",
              "  </div>\n",
              "  "
            ]
          },
          "metadata": {},
          "execution_count": 22
        }
      ],
      "source": [
        "boot_n = 10000\n",
        "\n",
        "quantity_bs = []\n",
        "price_bs = []\n",
        "profit_bs = []\n",
        "\n",
        "for i in tqdm(range(boot_n)):\n",
        "    model_bootstrap_q7 = bootstrap_func()\n",
        "    quantity_bs.append(model_bootstrap_q7.x[0])\n",
        "    price_bs.append(model_bootstrap_q7.x[1])\n",
        "    profit_bs.append(model_bootstrap_q7.objVal)\n",
        "    \n",
        "bootstrap_df = pd.DataFrame({'Profit': profit_bs, 'Price': price_bs, 'Quantity': quantity_bs})\n",
        "bootstrap_df[:5]"
      ]
    },
    {
      "cell_type": "markdown",
      "id": "bc3e8d65",
      "metadata": {
        "id": "bc3e8d65"
      },
      "source": [
        "## Make a scatterplot with histograms on the x and y axis for this. You can do this quite easily using ggplot2."
      ]
    },
    {
      "cell_type": "code",
      "execution_count": null,
      "id": "fd659ea1",
      "metadata": {
        "id": "fd659ea1",
        "colab": {
          "base_uri": "https://localhost:8080/",
          "height": 599
        },
        "outputId": "f2ed431f-aa9f-405c-eda7-173125479f5c"
      },
      "outputs": [
        {
          "output_type": "execute_result",
          "data": {
            "text/plain": [
              "<seaborn.axisgrid.JointGrid at 0x7fc9a9f60c10>"
            ]
          },
          "metadata": {},
          "execution_count": 23
        },
        {
          "output_type": "display_data",
          "data": {
            "text/plain": [
              "<Figure size 576x576 with 3 Axes>"
            ],
            "image/png": "[encoded data removed]"
          },
          "metadata": {
            "needs_background": "light"
          }
        }
      ],
      "source": [
        "sns.jointplot(data = bootstrap_df, x = 'Price', y = 'Quantity', height = 8, ratio = 2, marginal_ticks = True, color='#CC5500')\n",
        "\n"
      ]
    },
    {
      "cell_type": "markdown",
      "id": "5827f00c",
      "metadata": {
        "id": "5827f00c"
      },
      "source": [
        "##  Make a histogram of expectation of profits."
      ]
    },
    {
      "cell_type": "code",
      "execution_count": null,
      "id": "136356f8",
      "metadata": {
        "id": "136356f8",
        "colab": {
          "base_uri": "https://localhost:8080/",
          "height": 295
        },
        "outputId": "eeb11f08-737c-42a0-df16-f56ac72e76fb"
      },
      "outputs": [
        {
          "output_type": "display_data",
          "data": {
            "text/plain": [
              "<Figure size 432x288 with 1 Axes>"
            ],
            "image/png": "[encoded data removed]"
          },
          "metadata": {
            "needs_background": "light"
          }
        }
      ],
      "source": [
        "plt.figure()\n",
        "sns.histplot(bootstrap_df['Profit'],color='#CC5500')\n",
        "plt.xlabel('Optimal profit')\n",
        "plt.ylabel('Frequency')\n",
        "plt.title('Expected profit distribution')\n",
        "plt.show()"
      ]
    },
    {
      "cell_type": "code",
      "execution_count": null,
      "id": "52bb217a",
      "metadata": {
        "id": "52bb217a",
        "colab": {
          "base_uri": "https://localhost:8080/",
          "height": 295
        },
        "outputId": "491706cb-ce13-4c76-da56-af3e36792308"
      },
      "outputs": [
        {
          "output_type": "display_data",
          "data": {
            "text/plain": [
              "<Figure size 432x288 with 1 Axes>"
            ],
            "image/png": "[encoded data removed]"
          },
          "metadata": {
            "needs_background": "light"
          }
        }
      ],
      "source": [
        "plt.figure()\n",
        "sns.histplot(bootstrap_df['Quantity'],color='#CC5500')\n",
        "plt.xlabel('Optimal quantity')\n",
        "plt.ylabel('Frequency')\n",
        "plt.title('Optimal quantity distribution')\n",
        "plt.show()"
      ]
    },
    {
      "cell_type": "code",
      "execution_count": null,
      "id": "f5e95127",
      "metadata": {
        "id": "f5e95127",
        "colab": {
          "base_uri": "https://localhost:8080/",
          "height": 295
        },
        "outputId": "c624e950-8505-449f-8f54-8847123ea004"
      },
      "outputs": [
        {
          "output_type": "display_data",
          "data": {
            "text/plain": [
              "<Figure size 432x288 with 1 Axes>"
            ],
            "image/png": "[encoded data removed]"
          },
          "metadata": {
            "needs_background": "light"
          }
        }
      ],
      "source": [
        "plt.figure()\n",
        "sns.histplot(bootstrap_df['Price'],color='#CC5500')\n",
        "plt.xlabel('Optimal price')\n",
        "plt.ylabel('Frequency')\n",
        "plt.title('Optimal price distribution')\n",
        "plt.show()"
      ]
    },
    {
      "cell_type": "markdown",
      "id": "75bb4664",
      "metadata": {
        "id": "75bb4664"
      },
      "source": [
        "## 8) You work for a publishing company. Your boss has been using the standard NV model to set printing decisions using the dataset given. Is your boss’ model as good as this one? Could you increase revenue by switching models for production/pricing decisions? Describe the advantages and disadvantages of both techniques. Your boss is pretty technical and understands optimization, so don’t be afraid to include quantitative material. Your boss is also busy, so be sure to include some visualizations to get the important points across. For the purpose of your report, you can assume that your boss is interested in the data posted with the project. Write this as if you were going to give it to your boss as a technical report that may be shared with the CEO. That means, make it look GOOD!"
      ]
    },
    {
      "cell_type": "code",
      "execution_count": null,
      "id": "ff0c3f0c",
      "metadata": {
        "id": "ff0c3f0c"
      },
      "outputs": [],
      "source": [
        "# 100 decision variables: (q, h1, h2, ..., h99)\n",
        "obj = np.zeros(n+1)\n",
        "obj[1:] = 1.0/n\n",
        "lb = np.zeros(n+1)\n",
        "lb[1:] = -np.inf # quantity printed needs to be non-negative, but profit on a given day could possibly be negative\n",
        "rhs = np.zeros(2*n)\n",
        "direction = np.array(['<']*(2*n))\n",
        "\n",
        "A = np.zeros((2*n, n+1))\n",
        "for r in range(n):\n",
        "    A[2*r,[0,r+1]] = [cost,1] # location 1 is q, location r+1 is this h\n",
        "    rhs[2*r] = price*df_new.demand[r]\n",
        "    A[2*r+1,[0,r+1]] = [cost-price,1]\n",
        "    rhs[2*r+1] = 0\n",
        "\n",
        "baseline = gp.Model()\n",
        "baseline_x = baseline.addMVar(len(obj),lb=lb) \n",
        "baseline_con = baseline.addMConstr(A, baseline_x, direction, rhs) \n",
        "baseline.setMObjective(None,obj,0,sense=gp.GRB.MAXIMIZE)\n",
        "\n",
        "baseline.Params.OutputFlag = 0\n",
        "baseline.optimize()"
      ]
    },
    {
      "cell_type": "code",
      "execution_count": null,
      "id": "3e1452b5",
      "metadata": {
        "id": "3e1452b5",
        "colab": {
          "base_uri": "https://localhost:8080/"
        },
        "outputId": "11e6b394-5328-443d-96e8-fbcc7bbdc56e"
      },
      "outputs": [
        {
          "output_type": "stream",
          "name": "stdout",
          "text": [
            "Optimal quantity 569.8967553157715 Optimal profit 219.28316552851413\n"
          ]
        }
      ],
      "source": [
        "baseline_quantity = baseline.x[0]\n",
        "baseline_profit = baseline.objVal\n",
        "print('Optimal quantity', baseline_quantity, 'Optimal profit', baseline_profit)"
      ]
    },
    {
      "cell_type": "code",
      "execution_count": null,
      "id": "33324887",
      "metadata": {
        "id": "33324887",
        "colab": {
          "base_uri": "https://localhost:8080/"
        },
        "outputId": "d7f21af0-33d7-4be2-c98d-c11586b706f9"
      },
      "outputs": [
        {
          "output_type": "stream",
          "name": "stdout",
          "text": [
            "Baseline NV approach gives low profit\n",
            "No significant difference in quantity between the baseline NV and the dynamic price approach was observed.\n",
            "Baseline NV approach sell at high price\n"
          ]
        }
      ],
      "source": [
        "# comparision of baseline profit with the distribution of dynamic pricing approach\n",
        "# 95% confidence interval for dynamic priceing approach\n",
        "\n",
        "# low = 0.025\n",
        "# high = 0.975\n",
        "low = 0.05\n",
        "high = 0.95\n",
        "\n",
        "low_q, high_q = np.quantile(bootstrap_df['Quantity'], [low, high])\n",
        "low_profit, high_profit = np.quantile(bootstrap_df['Profit'], [low, high])\n",
        "low_c, high_c = np.quantile(bootstrap_df['Price'], [low, high])\n",
        "\n",
        "if (baseline_profit < low_profit):\n",
        "    print('Baseline NV approach gives low profit')\n",
        "elif (baseline_profit > high_profit):\n",
        "    print('Baseline NV approach gives High profit')\n",
        "else:\n",
        "    print('No significant difference in profit between the baseline NV and the dynamic price approach was observed.')\n",
        "\n",
        "if (baseline_quantity < low_q):\n",
        "    print('Baseline NV approach gives low quantity')\n",
        "elif (baseline_quantity > high_q):\n",
        "    print('Baseline NV approach give high quantity')\n",
        "else:\n",
        "    print('No significant difference in quantity between the baseline NV and the dynamic price approach was observed.')\n",
        "\n",
        "if (p < low_c):\n",
        "    print('Baseline NV approach sell at low price')\n",
        "elif (p > high_c):\n",
        "    print('Baseline NV approach sell at high price')\n",
        "else:\n",
        "    print('No significant difference in price between the baseline NV and the dynamic price approach was observed.')"
      ]
    },
    {
      "cell_type": "markdown",
      "id": "bb4b695b",
      "metadata": {
        "id": "bb4b695b"
      },
      "source": [
        "**Despite charging lower prices to customers, the dynamic pricing approach enables us to achieve both a higher profit and a higher quantity produced.**"
      ]
    },
    {
      "cell_type": "code",
      "execution_count": null,
      "id": "bd67c14a",
      "metadata": {
        "id": "bd67c14a",
        "colab": {
          "base_uri": "https://localhost:8080/"
        },
        "outputId": "2497c7c8-7f5e-486a-85c7-f0986db7d510"
      },
      "outputs": [
        {
          "output_type": "stream",
          "name": "stdout",
          "text": [
            "Profit\n",
            "Baseline 219.28\n",
            "Dynamic Profit 235.09 220.16 250.05\n",
            "\n",
            "Price\n",
            "Baseline 1\n",
            "Dynamic Price 0.95 0.933 0.978\n",
            "\n",
            "Quantity\n",
            "Baseline 569.9\n",
            "Dynamic Quantity 536.28 486.952 592.471\n"
          ]
        }
      ],
      "source": [
        "#Profit mean comparison with confidence values low = 5% and high = 95%\n",
        "print('Profit')\n",
        "print('Baseline', round(baseline_profit, 2))\n",
        "print('Dynamic Profit', round(np.mean(bootstrap_df['Profit']), 2), round(low_profit, 2), round(high_profit, 2))\n",
        "print('')\n",
        "\n",
        "#Price mean comparison with confidence values low = 5% and high = 95%\n",
        "print('Price')\n",
        "print('Baseline', round(1, 2))\n",
        "print('Dynamic Price', round(np.mean(bootstrap_df['Price']), 2), round(low_c, 3), round(high_c, 3))\n",
        "print('')\n",
        "\n",
        "#Quantity mean comparison with confidence values low = 5% and high = 95%\n",
        "print('Quantity')\n",
        "print('Baseline', round(baseline_quantity, 2))\n",
        "print('Dynamic Quantity', round(np.mean(bootstrap_df['Quantity']), 2), round(low_q, 3), round(high_q, 3))"
      ]
    },
    {
      "cell_type": "code",
      "execution_count": null,
      "id": "76f44658",
      "metadata": {
        "id": "76f44658",
        "colab": {
          "base_uri": "https://localhost:8080/"
        },
        "outputId": "ad16910e-60ca-4093-e1d5-c33e7b2e946e"
      },
      "outputs": [
        {
          "output_type": "stream",
          "name": "stdout",
          "text": [
            "[486.95233357 592.47057442]\n",
            "[220.15651874 250.05434596]\n",
            "[0.93287169 0.97813454]\n"
          ]
        }
      ],
      "source": [
        "print(np.quantile(bootstrap_df['Quantity'], [0.05, 0.95]))\n",
        "print(np.quantile(bootstrap_df['Profit'], [0.05, 0.95]))\n",
        "print(np.quantile(bootstrap_df['Price'], [0.05, 0.95]))"
      ]
    },
    {
      "cell_type": "code",
      "execution_count": null,
      "id": "69667c6d",
      "metadata": {
        "id": "69667c6d",
        "colab": {
          "base_uri": "https://localhost:8080/"
        },
        "outputId": "4dfedb30-a07f-4354-8507-f251bdef9d48"
      },
      "outputs": [
        {
          "output_type": "stream",
          "name": "stdout",
          "text": [
            "[476.94687837 602.38066322]\n",
            "[217.15980848 252.951113  ]\n",
            "[0.92896802 0.98313783]\n"
          ]
        }
      ],
      "source": [
        "print(np.quantile(bootstrap_df['Quantity'], [0.025, 0.975]))\n",
        "print(np.quantile(bootstrap_df['Profit'], [0.025, 0.975]))\n",
        "print(np.quantile(bootstrap_df['Price'], [0.025, 0.975]))"
      ]
    },
    {
      "cell_type": "code",
      "source": [],
      "metadata": {
        "id": "6b_MRsl4yXSh"
      },
      "id": "6b_MRsl4yXSh",
      "execution_count": null,
      "outputs": []
    }
  ],
  "metadata": {
    "kernelspec": {
      "display_name": "Python 3 (ipykernel)",
      "language": "python",
      "name": "python3"
    },
    "language_info": {
      "codemirror_mode": {
        "name": "ipython",
        "version": 3
      },
      "file_extension": ".py",
      "mimetype": "text/x-python",
      "name": "python",
      "nbconvert_exporter": "python",
      "pygments_lexer": "ipython3",
      "version": "3.9.12"
    },
    "colab": {
      "provenance": []
    }
  },
  "nbformat": 4,
  "nbformat_minor": 5
}